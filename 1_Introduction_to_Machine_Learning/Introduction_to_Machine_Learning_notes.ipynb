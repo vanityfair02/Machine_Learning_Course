{
 "cells": [
  {
   "cell_type": "code",
   "execution_count": null,
   "metadata": {},
   "outputs": [],
   "source": []
  },
  {
   "cell_type": "markdown",
   "metadata": {},
   "source": [
    "# Introduction to Machine Learning Notes"
   ]
  },
  {
   "cell_type": "markdown",
   "metadata": {},
   "source": [
    "**Loss function - $ J $**\n",
    "\n",
    "When doing regression:\n",
    "\n",
    "MSE - Mean Squared Error - https://statisticsbyjim.com/regression/mean-squared-error-mse/\n",
    "\n",
    "When doing classification:\n",
    "\n",
    "Cross-Entropy Loss Function - https://www.geeksforgeeks.org/what-is-cross-entropy-loss-function/"
   ]
  },
  {
   "cell_type": "markdown",
   "metadata": {},
   "source": [
    "**Unsupervised learning / Agents:**\n",
    "\n",
    "- Adversarial training"
   ]
  },
  {
   "cell_type": "markdown",
   "metadata": {},
   "source": [
    "## Types of Machine Learning Algorithms"
   ]
  },
  {
   "cell_type": "markdown",
   "metadata": {},
   "source": [
    "**Supervised learning:**\n",
    "\n",
    "- Data provides Results\n",
    "- The model needs to approximate our Results\n",
    "\n",
    "**Unsupervised learning:**\n",
    "\n",
    "- Data and Hypothesis\n",
    "- We take the data and try to establish how much they resemble our Hypothesis\n",
    "\n",
    "**Reinforcement learning:**\n",
    "\n",
    "- Data, results and an algorithm which needs to adapt\n",
    "- We value how well it adapts in various situations which can be presented\n"
   ]
  },
  {
   "cell_type": "markdown",
   "metadata": {},
   "source": [
    "## Algorithms by Task"
   ]
  },
  {
   "cell_type": "markdown",
   "metadata": {},
   "source": [
    "Statistical algorithms (median, interpolation of data, etc.)\n",
    "\n",
    "Supervised learning:\n",
    "- Regression\n",
    "- Classification\n",
    "\n",
    "Unsupervised learning:\n",
    "- Clustering\n",
    "- Dimensionality reduction\n",
    "\n",
    "Unsupervised + Reinforcement learning:\n",
    "- Recommendation\n",
    "- Optimization\n",
    "\n",
    "Testing and improvement algorithms - *Meta-learning*"
   ]
  },
  {
   "cell_type": "markdown",
   "metadata": {},
   "source": [
    " Covariate shift / data shift"
   ]
  },
  {
   "cell_type": "markdown",
   "metadata": {},
   "source": [
    "Greedy algorithms"
   ]
  },
  {
   "cell_type": "markdown",
   "metadata": {},
   "source": [
    "Gradient descent - Градиентен метод"
   ]
  },
  {
   "cell_type": "markdown",
   "metadata": {},
   "source": [
    "one-hot encoding  \n",
    "multi-hot encoding"
   ]
  },
  {
   "cell_type": "markdown",
   "metadata": {},
   "source": []
  }
 ],
 "metadata": {
  "language_info": {
   "name": "python"
  }
 },
 "nbformat": 4,
 "nbformat_minor": 2
}
